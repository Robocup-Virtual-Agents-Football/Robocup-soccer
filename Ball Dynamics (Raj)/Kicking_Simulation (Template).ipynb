{
  "nbformat": 4,
  "nbformat_minor": 0,
  "metadata": {
    "colab": {
      "name": "Kicking Simulation.ipynb",
      "provenance": [],
      "collapsed_sections": []
    },
    "kernelspec": {
      "name": "python3",
      "display_name": "Python 3"
    },
    "language_info": {
      "name": "python"
    }
  },
  "cells": [
    {
      "cell_type": "code",
      "execution_count": null,
      "metadata": {
        "id": "xTCDv0fHUiKM"
      },
      "outputs": [],
      "source": [
        "import numpy as np\n",
        "import matplotlib.pyplot as plt"
      ]
    },
    {
      "cell_type": "code",
      "source": [
        "e = 0.8 # Coefficient of Restitution\n",
        "m_foot = 10 # Mass of foot\n",
        "m_ball = 0.4 # Mass of ball\n",
        "\n",
        "def get_ball_vel(vel_foot_in, vel_ball_in, m_foot, m_ball, e):\n",
        "  \"\"\"\n",
        "  Input: vel_foot_in, Intital Foot Velocity (Numpy Array, 1x2)\n",
        "         vel_ball_in, Initial Ball Velocity (Numpy Array, 1x2)\n",
        "         m_foot, Mass of Foot\n",
        "         m_ball, Mass of Ball\n",
        "         e, Coefficient of Restitution\n",
        "  Returns: vel_ball_fin, Final Ball Velocity (Numpy Array, 1x2)\n",
        "  \"\"\"\n",
        "\n",
        "  vel_ball_fin = (((vel_foot_in * m_foot * (1 + e)) +\n",
        "                   (vel_ball_in * (m_ball - e * m_foot)))/ (m_foot + m_ball))\n",
        "  \n",
        "  return vel_ball_fin\n",
        "\n",
        "def get_proj_data(pos_in, vel_in, t_range, g=9.81):\n",
        "  \"\"\"\n",
        "  Input: vel_in, Initial Velocity (Numpy Array, 1x2)\n",
        "         t_range, Time Range (Numpy Array, 1xn)\n",
        "  Returns: x_data, Projectile x data in t_range (Numpy Array, 2xn)\n",
        "           y_data, Projectile y data in t_range (Numpy Array, 2xn)\n",
        "  \"\"\"\n",
        "\n",
        "  pos_x, pos_y = pos_in[0], pos_in[1]\n",
        "  theta = np.arctan(vel_in[1]/vel_in[0])\n",
        "  # x_data = np.zeros_like(t_range)\n",
        "  # y_data = np.zeros_like(t_range)\n",
        "  x_data, y_data = [], []\n",
        "\n",
        "  for idx, t_step in enumerate(t_range):\n",
        "    if pos_y + vel_in[1] * t_step - 0.5 * g * t_step**2 < 0 : break\n",
        "    # x_data[idx] = pos_x + vel_in[0] * t_step\n",
        "    # y_data[idx] = pos_y + vel_in[1] * t_step - 0.5 * g * t_step**2\n",
        "    x_data.append(pos_x + vel_in[0] * t_step)\n",
        "    y_data.append(pos_y + vel_in[1] * t_step - 0.5 * g * t_step**2)\n",
        "  \n",
        "  return np.array(x_data), np.array(y_data)"
      ],
      "metadata": {
        "id": "bRONXdD_UnX-"
      },
      "execution_count": null,
      "outputs": []
    },
    {
      "cell_type": "code",
      "source": [
        "vb_in = np.array([0, 0])\n",
        "vf_in = np.array([50, 10])\n",
        "\n",
        "vb_fin = get_ball_vel(vf_in, vb_in, m_foot, m_ball, e)\n",
        "pos_b = [0, 100]\n",
        "print(vb_fin)\n",
        "t_range = np.linspace(0, 100, 10000)\n",
        "\n",
        "proj_x, proj_y = get_proj_data(pos_b, vb_fin, t_range)\n",
        "plt.plot(proj_x, proj_y)"
      ],
      "metadata": {
        "colab": {
          "base_uri": "https://localhost:8080/",
          "height": 305
        },
        "id": "OuKIaLP3WTER",
        "outputId": "b102f71c-15ba-44f4-e904-dc993cc91c09"
      },
      "execution_count": null,
      "outputs": [
        {
          "output_type": "stream",
          "name": "stdout",
          "text": [
            "[86.53846154 17.30769231]\n"
          ]
        },
        {
          "output_type": "execute_result",
          "data": {
            "text/plain": [
              "[<matplotlib.lines.Line2D at 0x7fe6243e8fd0>]"
            ]
          },
          "metadata": {},
          "execution_count": 94
        },
        {
          "output_type": "display_data",
          "data": {
            "image/png": "[encoded data removed]",
            "text/plain": [
              "<Figure size 432x288 with 1 Axes>"
            ]
          },
          "metadata": {
            "needs_background": "light"
          }
        }
      ]
    },
    {
      "cell_type": "code",
      "source": [
        ""
      ],
      "metadata": {
        "id": "YWW8ZhjvcYmF"
      },
      "execution_count": null,
      "outputs": []
    }
  ]
}